{
 "cells": [
  {
   "cell_type": "code",
   "execution_count": 1,
   "id": "66349e0a",
   "metadata": {},
   "outputs": [],
   "source": [
    "import os\n",
    "import pickle\n",
    "import numpy as np\n",
    "import matplotlib.pyplot as plt\n"
   ]
  },
  {
   "cell_type": "code",
   "execution_count": 2,
   "id": "8e3d348a",
   "metadata": {},
   "outputs": [],
   "source": [
    "filename = 'gnl_0002.blif.rent'\n",
    "folder = '../benchmarks/rent_files'\n",
    "rent_path = os.path.join(folder,filename)"
   ]
  },
  {
   "cell_type": "code",
   "execution_count": 3,
   "id": "f9e509d4",
   "metadata": {},
   "outputs": [],
   "source": [
    "with open(rent_path, \"rb\") as fp:   # Unpickling\n",
    "    rent_data = pickle.load(fp)"
   ]
  },
  {
   "cell_type": "code",
   "execution_count": 4,
   "id": "aa6ec03f",
   "metadata": {},
   "outputs": [
    {
     "name": "stdout",
     "output_type": "stream",
     "text": [
      "1\n",
      "2\n",
      "4\n",
      "8\n",
      "16\n",
      "32\n",
      "64\n",
      "128\n",
      "256\n",
      "512\n",
      "1024\n",
      "2048\n",
      "4090\n",
      "5088\n",
      "1258\n",
      "18\n"
     ]
    }
   ],
   "source": [
    "rent_data\n",
    "for level in rent_data:\n",
    "    print(len(level))"
   ]
  },
  {
   "cell_type": "code",
   "execution_count": 5,
   "id": "7cea543d",
   "metadata": {},
   "outputs": [],
   "source": [
    "rent_data_flat = np.array([data_point for level in rent_data for data_point in level])"
   ]
  },
  {
   "cell_type": "code",
   "execution_count": 6,
   "id": "64e03722",
   "metadata": {},
   "outputs": [],
   "source": [
    "blocks = np.array(rent_data_flat)[:,0]\n",
    "pins = np.array(rent_data_flat)[:,1]"
   ]
  },
  {
   "cell_type": "markdown",
   "id": "85842c57",
   "metadata": {},
   "source": [
    "### bin data"
   ]
  },
  {
   "cell_type": "code",
   "execution_count": 7,
   "id": "0e5c6984",
   "metadata": {},
   "outputs": [
    {
     "data": {
      "text/plain": [
       "11683"
      ]
     },
     "execution_count": 7,
     "metadata": {},
     "output_type": "execute_result"
    }
   ],
   "source": [
    "n_bins = 15\n",
    "\n",
    "max_blocks = max(blocks)\n",
    "max_blocks"
   ]
  },
  {
   "cell_type": "code",
   "execution_count": 8,
   "id": "6aced7d8",
   "metadata": {},
   "outputs": [],
   "source": [
    "bin_factor = max_blocks**(1/(n_bins))\n",
    "bin_values = []\n",
    "bin_value = 1\n",
    "for i in range(n_bins):\n",
    "    bin_value*=bin_factor\n",
    "    bin_values.append(bin_value)\n",
    "bin_values[-1] += 1"
   ]
  },
  {
   "cell_type": "code",
   "execution_count": 9,
   "id": "c36d9d83",
   "metadata": {},
   "outputs": [],
   "source": [
    "#Sort on first column (blocks)\n",
    "rent_data_flat = rent_data_flat[rent_data_flat[:,0].argsort()]"
   ]
  },
  {
   "cell_type": "code",
   "execution_count": 10,
   "id": "b4b2a748",
   "metadata": {},
   "outputs": [],
   "source": [
    "binned_data = []\n",
    "sorted_mask = np.array([False]*len(rent_data_flat))\n",
    "for bin_value in bin_values:\n",
    "    bin_mask = rent_data_flat[:,0] <= bin_value\n",
    "    bin_mask = bin_mask ^ sorted_mask\n",
    "    binned_data.append(rent_data_flat[bin_mask])\n",
    "    sorted_mask = sorted_mask | bin_mask\n",
    "assert len(sorted_mask) == sorted_mask.sum()"
   ]
  },
  {
   "cell_type": "code",
   "execution_count": 55,
   "id": "ac0aa228",
   "metadata": {},
   "outputs": [],
   "source": [
    "bin_means = []\n",
    "bin_stds = []\n",
    "for data in binned_data:\n",
    "    blocks_mean = data[:,0].mean()\n",
    "    pins_mean = data[:,1].mean()\n",
    "    bin_means.append([blocks_mean, pins_mean])\n",
    "    bin_stds.append(data[:,1].std())\n",
    "bin_means = np.array(bin_means)\n",
    "bin_stds = np.array(bin_stds)"
   ]
  },
  {
   "cell_type": "markdown",
   "id": "c886e03e",
   "metadata": {},
   "source": [
    "### Visualise data"
   ]
  },
  {
   "cell_type": "code",
   "execution_count": 85,
   "id": "0dec4ead",
   "metadata": {},
   "outputs": [
    {
     "data": {
      "text/plain": [
       "array([  0.89029729,   1.54354855,   1.89628879,   2.51938773,\n",
       "         3.3049162 ,   4.65899071,   6.52626823,   9.70578596,\n",
       "        15.45229217,  21.96312566,  20.04328649,  45.74368126,\n",
       "        54.29721448,  59.5       , 112.        ])"
      ]
     },
     "execution_count": 85,
     "metadata": {},
     "output_type": "execute_result"
    },
    {
     "data": {
      "image/png": "[encoded data removed]",
      "text/plain": [
       "<Figure size 432x288 with 1 Axes>"
      ]
     },
     "metadata": {
      "needs_background": "light"
     },
     "output_type": "display_data"
    }
   ],
   "source": [
    "plt.xscale(\"log\")\n",
    "plt.yscale(\"log\")\n",
    "plt.scatter(blocks, pins, alpha = 0.1)\n",
    "plt.scatter(bin_means[:,0], bin_means[:,1])\n",
    "\n",
    "plt.vlines(bin_means[:,0], bin_means[:,1] - bin_stds, bin_means[:,1]+bin_stds, colors='pink')\n",
    "\n",
    "bin_stds"
   ]
  },
  {
   "cell_type": "markdown",
   "id": "d22b2b07",
   "metadata": {},
   "source": [
    "### Find rent exponent"
   ]
  },
  {
   "cell_type": "code",
   "execution_count": 78,
   "id": "e4e77547",
   "metadata": {},
   "outputs": [
    {
     "data": {
      "text/plain": [
       "array([-0.11619984,  0.43408402,  0.63989871,  0.92401591,  1.19541112,\n",
       "        1.53879884,  1.8758353 ,  2.2727222 ,  2.73775735,  3.08936494,\n",
       "        2.99789426,  3.82305367,  3.99447293,  4.08597631,  4.71849887])"
      ]
     },
     "execution_count": 78,
     "metadata": {},
     "output_type": "execute_result"
    }
   ],
   "source": [
    "log_bin_means = np.log(bin_means)\n",
    "#TODO: hoe stds weergeven op logaritmisch schaal (hierboven ook niet echt correct? )\n",
    "log_bin_stds = np.log(bin_stds)\n",
    "log_bin_stds"
   ]
  },
  {
   "cell_type": "code",
   "execution_count": 69,
   "id": "a0b0f9bb",
   "metadata": {},
   "outputs": [],
   "source": [
    "#TODO: geef gewicht aan bins .. op minder punten --> meer onzekerheid .. \n",
    "def trend_line(data):\n",
    "    x = data[:,0]\n",
    "    y = data[:,1]\n",
    "    x_mean = x.mean()\n",
    "    y_mean = y.mean()\n",
    "    x_err = x-x_mean\n",
    "    y_err = y-y_mean\n",
    "    a = (x_err*y_err).sum()/ ((x_err)**2).sum()\n",
    "    b = y_mean - x_mean*a\n",
    "    first_point = [x[0], x[0]*a + b]\n",
    "    last_point = [x[-1], x[-1]*a + b]\n",
    "    \n",
    "    #Error\n",
    "    error = sum((y - (x*a + b))**2)/len(data)   \n",
    "    \n",
    "    return np.array([first_point, last_point]), a, b, error"
   ]
  },
  {
   "cell_type": "code",
   "execution_count": 70,
   "id": "05014658",
   "metadata": {},
   "outputs": [
    {
     "data": {
      "text/plain": [
       "(array([[0.        , 1.04293582],\n",
       "        [9.10475761, 6.25894471]]),\n",
       " 0.5728882758704187,\n",
       " 1.0429358181902901,\n",
       " 0.010670769242976132)"
      ]
     },
     "execution_count": 70,
     "metadata": {},
     "output_type": "execute_result"
    }
   ],
   "source": [
    "trend_line(log_bin_means[:])"
   ]
  },
  {
   "cell_type": "code",
   "execution_count": 71,
   "id": "2042f2f7",
   "metadata": {},
   "outputs": [
    {
     "name": "stdout",
     "output_type": "stream",
     "text": [
      "3\n",
      "4\n",
      "5\n",
      "6\n",
      "7\n",
      "8\n",
      "9\n",
      "10\n",
      "11\n",
      "12\n",
      "13\n",
      "14\n",
      "15\n"
     ]
    }
   ],
   "source": [
    "int(n_bins/2)\n",
    "n_selected_bins = 6\n",
    "error_per_n_bins = [] ##Find the best error for sliding windows of selected number of bins\n",
    "for n_selected_bins in range(int(3), n_bins+1):\n",
    "    print(n_selected_bins)\n",
    "    min_error = np.inf\n",
    "    min_error_data = []\n",
    "    for i in range(n_bins-n_selected_bins+1):\n",
    "        line, slope, offset, error = trend_line(log_bin_means[i:i+n_selected_bins])\n",
    "        if error < min_error:\n",
    "            min_error = error\n",
    "            min_error_data = log_bin_means[i:i+n_selected_bins]\n",
    "    error_per_n_bins.append([n_selected_bins, min_error_data, min_error]) \n",
    "error_per_n_bins = np.array(error_per_n_bins, dtype=object)"
   ]
  },
  {
   "cell_type": "code",
   "execution_count": 72,
   "id": "64e46cb4",
   "metadata": {},
   "outputs": [
    {
     "data": {
      "text/plain": [
       "[<matplotlib.lines.Line2D at 0x7f5c8431b520>]"
      ]
     },
     "execution_count": 72,
     "metadata": {},
     "output_type": "execute_result"
    },
    {
     "data": {
      "image/png": "[encoded data removed]",
      "text/plain": [
       "<Figure size 432x288 with 1 Axes>"
      ]
     },
     "metadata": {
      "needs_background": "light"
     },
     "output_type": "display_data"
    }
   ],
   "source": [
    "plt.plot(error_per_n_bins[:, 0], error_per_n_bins[:, -1])"
   ]
  },
  {
   "cell_type": "code",
   "execution_count": 73,
   "id": "24e9ecfc",
   "metadata": {},
   "outputs": [
    {
     "data": {
      "text/plain": [
       "array([1.5472929524793767e-08, 3.660469701837697e-06,\n",
       "       6.461086899936373e-06, 1.3173808974060997e-05,\n",
       "       9.421322520901771e-05, 0.00020138541091773804,\n",
       "       0.00023174017438376302, 0.0003059437494121016,\n",
       "       0.0006055558292701609, 0.0008358830250058043,\n",
       "       0.0034412237972068706, 0.01067070383820265, 0.010670769242976132],\n",
       "      dtype=object)"
      ]
     },
     "execution_count": 73,
     "metadata": {},
     "output_type": "execute_result"
    }
   ],
   "source": [
    "error_per_n_bins[:, -1]"
   ]
  },
  {
   "cell_type": "code",
   "execution_count": 74,
   "id": "6932d268",
   "metadata": {},
   "outputs": [
    {
     "data": {
      "text/plain": [
       "(array([[0.        , 0.95528272],\n",
       "        [6.56892025, 4.93989479]]),\n",
       " 0.6065855441569915,\n",
       " 0.9552827189770974,\n",
       " 0.0006055558292701609)"
      ]
     },
     "execution_count": 74,
     "metadata": {},
     "output_type": "execute_result"
    }
   ],
   "source": [
    "##find best number of bins (to ommit rents first and second 'gebied' )\n",
    "best_n_bins = 11 ## find this automatically ## find minimum and ... (? nog bedenken hoe juist)\n",
    "selected_bins = error_per_n_bins[:,1][error_per_n_bins[:, 0] == best_n_bins][0]\n",
    "\n",
    "trend_line(selected_bins)"
   ]
  },
  {
   "cell_type": "code",
   "execution_count": 81,
   "id": "a6e4858e",
   "metadata": {},
   "outputs": [
    {
     "name": "stdout",
     "output_type": "stream",
     "text": [
      "bins: 6 \trent exponent: 0.63\n",
      "bins: 7 \trent exponent: 0.62\n",
      "bins: 8 \trent exponent: 0.61\n",
      "bins: 9 \trent exponent: 0.62\n",
      "bins: 10 \trent exponent: 0.61\n",
      "bins: 11 \trent exponent: 0.61\n",
      "bins: 12 \trent exponent: 0.60\n",
      "bins: 13 \trent exponent: 0.59\n",
      "bins: 14 \trent exponent: 0.57\n"
     ]
    },
    {
     "data": {
      "image/png": "[encoded data removed]",
      "text/plain": [
       "<Figure size 432x288 with 1 Axes>"
      ]
     },
     "metadata": {
      "needs_background": "light"
     },
     "output_type": "display_data"
    }
   ],
   "source": [
    "for selected_n_bins in range(6, 15):\n",
    "    selected_bins = error_per_n_bins[:,1][error_per_n_bins[:, 0] == selected_n_bins][0]\n",
    "    line, slope, offset, error = trend_line(selected_bins)\n",
    "    print('bins:', selected_n_bins, '\\trent exponent:', '{:.2f}'.format(slope))\n",
    "    # plt.vlines(log_bin_means[:,0], log_bin_means[:,1]-log_bin_stds, log_bin_means[:,1]+log_bin_stds, colors='pink')\n",
    "    plt.scatter(log_bin_means[:,0], log_bin_means[:,1])\n",
    "\n",
    "    plt.plot(line[:,0], line[:,1])\n"
   ]
  },
  {
   "cell_type": "code",
   "execution_count": 21,
   "id": "e0066a07",
   "metadata": {},
   "outputs": [
    {
     "name": "stdout",
     "output_type": "stream",
     "text": [
      "Rent exponent: 0.5679829275678704\n"
     ]
    }
   ],
   "source": [
    "print('Rent exponent:', slope)"
   ]
  }
 ],
 "metadata": {
  "kernelspec": {
   "display_name": "Python 3 (ipykernel)",
   "language": "python",
   "name": "python3"
  },
  "language_info": {
   "codemirror_mode": {
    "name": "ipython",
    "version": 3
   },
   "file_extension": ".py",
   "mimetype": "text/x-python",
   "name": "python",
   "nbconvert_exporter": "python",
   "pygments_lexer": "ipython3",
   "version": "3.8.10"
  }
 },
 "nbformat": 4,
 "nbformat_minor": 5
}
