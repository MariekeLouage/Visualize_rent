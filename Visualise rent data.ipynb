{
 "cells": [
  {
   "cell_type": "code",
   "execution_count": 22,
   "id": "66349e0a",
   "metadata": {},
   "outputs": [],
   "source": [
    "import os\n",
    "import pickle\n",
    "import numpy as np\n",
    "import matplotlib.pyplot as plt\n"
   ]
  },
  {
   "cell_type": "code",
   "execution_count": 7,
   "id": "8e3d348a",
   "metadata": {},
   "outputs": [],
   "source": [
    "filename = 'large.blif.rent'\n",
    "folder = '../benchmarks/rent_files'\n",
    "rent_path = os.path.join(folder,filename)"
   ]
  },
  {
   "cell_type": "code",
   "execution_count": 8,
   "id": "f9e509d4",
   "metadata": {},
   "outputs": [],
   "source": [
    "with open(rent_path, \"rb\") as fp:   # Unpickling\n",
    "    rent_data = pickle.load(fp)"
   ]
  },
  {
   "cell_type": "code",
   "execution_count": 9,
   "id": "aa6ec03f",
   "metadata": {},
   "outputs": [
    {
     "name": "stdout",
     "output_type": "stream",
     "text": [
      "1\n",
      "2\n",
      "4\n",
      "8\n",
      "16\n",
      "32\n",
      "64\n",
      "128\n",
      "256\n",
      "512\n",
      "1024\n",
      "2048\n",
      "3784\n",
      "2436\n",
      "262\n"
     ]
    }
   ],
   "source": [
    "rent_data\n",
    "for level in rent_data:\n",
    "    print(len(level))"
   ]
  },
  {
   "cell_type": "code",
   "execution_count": 12,
   "id": "7cea543d",
   "metadata": {},
   "outputs": [],
   "source": [
    "rent_data_flat = np.array([data_point for level in rent_data for data_point in level])"
   ]
  },
  {
   "cell_type": "code",
   "execution_count": 13,
   "id": "64e03722",
   "metadata": {},
   "outputs": [],
   "source": [
    "blocks = np.array(rent_data_flat)[:,0]\n",
    "pins = np.array(rent_data_flat)[:,1]"
   ]
  },
  {
   "cell_type": "markdown",
   "id": "85842c57",
   "metadata": {},
   "source": [
    "### bin data"
   ]
  },
  {
   "cell_type": "code",
   "execution_count": 15,
   "id": "0e5c6984",
   "metadata": {},
   "outputs": [
    {
     "data": {
      "text/plain": [
       "8500"
      ]
     },
     "execution_count": 15,
     "metadata": {},
     "output_type": "execute_result"
    }
   ],
   "source": [
    "n_bins = 12\n",
    "\n",
    "max_blocks = max(blocks)\n",
    "max_blocks"
   ]
  },
  {
   "cell_type": "code",
   "execution_count": 16,
   "id": "6aced7d8",
   "metadata": {},
   "outputs": [],
   "source": [
    "bin_factor = max_blocks**(1/(n_bins))\n",
    "bin_values = []\n",
    "bin_value = 1\n",
    "for i in range(n_bins):\n",
    "    bin_value*=bin_factor\n",
    "    bin_values.append(bin_value)\n",
    "bin_values[-1] += 1"
   ]
  },
  {
   "cell_type": "code",
   "execution_count": 17,
   "id": "c36d9d83",
   "metadata": {},
   "outputs": [],
   "source": [
    "#Sort on first column (blocks)\n",
    "rent_data_flat = rent_data_flat[rent_data_flat[:,0].argsort()]"
   ]
  },
  {
   "cell_type": "code",
   "execution_count": 18,
   "id": "b4b2a748",
   "metadata": {},
   "outputs": [],
   "source": [
    "binned_data = []\n",
    "sorted_mask = np.array([False]*len(rent_data_flat))\n",
    "for bin_value in bin_values:\n",
    "    bin_mask = rent_data_flat[:,0] <= bin_value\n",
    "    bin_mask = bin_mask ^ sorted_mask\n",
    "    binned_data.append(rent_data_flat[bin_mask])\n",
    "    sorted_mask = sorted_mask | bin_mask\n",
    "assert len(sorted_mask) == sorted_mask.sum()"
   ]
  },
  {
   "cell_type": "code",
   "execution_count": 20,
   "id": "ac0aa228",
   "metadata": {},
   "outputs": [],
   "source": [
    "bin_means = []\n",
    "for data in binned_data:\n",
    "    blocks_mean = data[:,0].mean()\n",
    "    pins_mean = data[:,1].mean()\n",
    "    bin_means.append([blocks_mean, pins_mean])\n",
    "bin_means = np.array(bin_means)"
   ]
  },
  {
   "cell_type": "markdown",
   "id": "c886e03e",
   "metadata": {},
   "source": [
    "### Visualise data"
   ]
  },
  {
   "cell_type": "code",
   "execution_count": 23,
   "id": "0dec4ead",
   "metadata": {},
   "outputs": [
    {
     "data": {
      "text/plain": [
       "<matplotlib.collections.PathCollection at 0x7f98d5226610>"
      ]
     },
     "execution_count": 23,
     "metadata": {},
     "output_type": "execute_result"
    },
    {
     "data": {
      "image/png": "[encoded data removed]",
      "text/plain": [
       "<Figure size 432x288 with 1 Axes>"
      ]
     },
     "metadata": {
      "needs_background": "light"
     },
     "output_type": "display_data"
    }
   ],
   "source": [
    "plt.xscale(\"log\")\n",
    "plt.yscale(\"log\")\n",
    "plt.scatter(blocks, pins, alpha = 0.1)\n",
    "plt.scatter(bin_means[:,0], bin_means[:,1])"
   ]
  },
  {
   "cell_type": "markdown",
   "id": "d22b2b07",
   "metadata": {},
   "source": [
    "### Find rent exponent"
   ]
  },
  {
   "cell_type": "code",
   "execution_count": 24,
   "id": "e4e77547",
   "metadata": {},
   "outputs": [],
   "source": [
    "log_bin_means = np.log(bin_means)"
   ]
  },
  {
   "cell_type": "code",
   "execution_count": 25,
   "id": "a0b0f9bb",
   "metadata": {},
   "outputs": [],
   "source": [
    "def trend_line(data):\n",
    "    x = data[:,0]\n",
    "    y = data[:,1]\n",
    "    x_mean = x.mean()\n",
    "    y_mean = y.mean()\n",
    "    x_err = x-x_mean\n",
    "    y_err = y-y_mean\n",
    "    a = (x_err*y_err).sum()/ ((x_err)**2).sum()\n",
    "    b = y_mean - x_mean*a\n",
    "    first_point = [x[0], x[0]*a + b]\n",
    "    last_point = [x[-1], x[-1]*a + b]\n",
    "    \n",
    "    #Error\n",
    "    error = sum((y - (x*a + b))**2)/len(data)   \n",
    "    \n",
    "    return np.array([first_point, last_point]), a, b, error"
   ]
  },
  {
   "cell_type": "code",
   "execution_count": 26,
   "id": "05014658",
   "metadata": {},
   "outputs": [
    {
     "data": {
      "text/plain": [
       "(array([[0.47443697, 1.37674885],\n",
       "        [8.64235633, 5.96003069]]),\n",
       " 0.5611321113147675,\n",
       " 1.1105270342431854,\n",
       " 0.0049948446581129765)"
      ]
     },
     "execution_count": 26,
     "metadata": {},
     "output_type": "execute_result"
    }
   ],
   "source": [
    "trend_line(log_bin_means[:])"
   ]
  },
  {
   "cell_type": "code",
   "execution_count": 27,
   "id": "2042f2f7",
   "metadata": {},
   "outputs": [
    {
     "name": "stdout",
     "output_type": "stream",
     "text": [
      "3\n",
      "4\n",
      "5\n",
      "6\n",
      "7\n",
      "8\n",
      "9\n",
      "10\n",
      "11\n",
      "12\n"
     ]
    }
   ],
   "source": [
    "int(n_bins/2)\n",
    "n_selected_bins = 6\n",
    "error_per_n_bins = [] ##Find the best error for sliding windows of selected number of bins\n",
    "for n_selected_bins in range(int(3), n_bins+1):\n",
    "    print(n_selected_bins)\n",
    "    min_error = np.inf\n",
    "    min_error_data = []\n",
    "    for i in range(n_bins-n_selected_bins+1):\n",
    "        line, slope, offset, error = trend_line(log_bin_means[i:i+n_selected_bins])\n",
    "        if error < min_error:\n",
    "            min_error = error\n",
    "            min_error_data = log_bin_means[i:i+n_selected_bins]\n",
    "    error_per_n_bins.append([n_selected_bins, min_error_data, min_error]) \n",
    "error_per_n_bins = np.array(error_per_n_bins, dtype=object)"
   ]
  },
  {
   "cell_type": "code",
   "execution_count": 28,
   "id": "64e46cb4",
   "metadata": {},
   "outputs": [
    {
     "data": {
      "text/plain": [
       "[<matplotlib.lines.Line2D at 0x7f98d2f06310>]"
      ]
     },
     "execution_count": 28,
     "metadata": {},
     "output_type": "execute_result"
    },
    {
     "data": {
      "image/png": "[encoded data removed]",
      "text/plain": [
       "<Figure size 432x288 with 1 Axes>"
      ]
     },
     "metadata": {
      "needs_background": "light"
     },
     "output_type": "display_data"
    }
   ],
   "source": [
    "plt.plot(error_per_n_bins[:, 0], error_per_n_bins[:, -1])"
   ]
  },
  {
   "cell_type": "code",
   "execution_count": 29,
   "id": "24e9ecfc",
   "metadata": {},
   "outputs": [
    {
     "data": {
      "text/plain": [
       "array([5.260927463932915e-06, 6.249931692500811e-05,\n",
       "       7.108220110884698e-05, 0.00017981886462604098,\n",
       "       0.0006399226785995161, 0.0017739051506365843,\n",
       "       0.0032494902625899223, 0.003972718479780919, 0.0043776456790316325,\n",
       "       0.0049948446581129765], dtype=object)"
      ]
     },
     "execution_count": 29,
     "metadata": {},
     "output_type": "execute_result"
    }
   ],
   "source": [
    "error_per_n_bins[:, -1]"
   ]
  },
  {
   "cell_type": "code",
   "execution_count": 30,
   "id": "6932d268",
   "metadata": {},
   "outputs": [
    {
     "data": {
      "text/plain": [
       "(array([[0.47443697, 1.32378012],\n",
       "        [5.60614668, 4.35374735]]),\n",
       " 0.5904401081473962,\n",
       " 1.0436535013881076,\n",
       " 0.0017739051506365843)"
      ]
     },
     "execution_count": 30,
     "metadata": {},
     "output_type": "execute_result"
    }
   ],
   "source": [
    "##find best number of bins (to ommit rents first and second 'gebied' )\n",
    "best_n_bins = 8 ## find this automatically ## find minimum and ... (? nog bedenken hoe juist)\n",
    "selected_bins = error_per_n_bins[:,1][error_per_n_bins[:, 0] == best_n_bins][0]\n",
    "\n",
    "trend_line(selected_bins)"
   ]
  },
  {
   "cell_type": "code",
   "execution_count": 32,
   "id": "a6e4858e",
   "metadata": {},
   "outputs": [
    {
     "name": "stdout",
     "output_type": "stream",
     "text": [
      "0.5904401081473962\n"
     ]
    },
    {
     "data": {
      "text/plain": [
       "[<matplotlib.lines.Line2D at 0x7f98d2ed3ee0>]"
      ]
     },
     "execution_count": 32,
     "metadata": {},
     "output_type": "execute_result"
    },
    {
     "data": {
      "image/png": "[encoded data removed]",
      "text/plain": [
       "<Figure size 432x288 with 1 Axes>"
      ]
     },
     "metadata": {
      "needs_background": "light"
     },
     "output_type": "display_data"
    }
   ],
   "source": [
    "line, slope, offset, error = trend_line(selected_bins)\n",
    "print(slope)\n",
    "plt.scatter(log_bin_means[:,0], log_bin_means[:,1])\n",
    "\n",
    "plt.plot(line[:,0], line[:,1])"
   ]
  },
  {
   "cell_type": "code",
   "execution_count": 38,
   "id": "e0066a07",
   "metadata": {},
   "outputs": [
    {
     "name": "stdout",
     "output_type": "stream",
     "text": [
      "rent exponent: 0.5904401081473962\n"
     ]
    }
   ],
   "source": [
    "print('rent exponent:', slope)"
   ]
  }
 ],
 "metadata": {
  "kernelspec": {
   "display_name": "Python 3 (ipykernel)",
   "language": "python",
   "name": "python3"
  },
  "language_info": {
   "codemirror_mode": {
    "name": "ipython",
    "version": 3
   },
   "file_extension": ".py",
   "mimetype": "text/x-python",
   "name": "python",
   "nbconvert_exporter": "python",
   "pygments_lexer": "ipython3",
   "version": "3.8.10"
  }
 },
 "nbformat": 4,
 "nbformat_minor": 5
}
