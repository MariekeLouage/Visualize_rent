{
 "cells": [
  {
   "cell_type": "code",
   "execution_count": 122,
   "id": "66349e0a",
   "metadata": {},
   "outputs": [],
   "source": [
    "import os\n",
    "import pickle\n",
    "import numpy as np\n",
    "import matplotlib.pyplot as plt\n",
    "from ipyfilechooser import FileChooser"
   ]
  },
  {
   "cell_type": "code",
   "execution_count": 123,
   "id": "c0305be6",
   "metadata": {},
   "outputs": [
    {
     "data": {
      "application/vnd.jupyter.widget-view+json": {
       "model_id": "701035aea7ca43ff8ca8e15fd8a2a25f",
       "version_major": 2,
       "version_minor": 0
      },
      "text/plain": [
       "FileChooser(path='/home/marieke/GNL_clone/benchmarks/rent_files', filename='', title='', show_hidden=False, se…"
      ]
     },
     "metadata": {},
     "output_type": "display_data"
    }
   ],
   "source": [
    "fc = FileChooser('../benchmarks/rent_files')\n",
    "display(fc)"
   ]
  },
  {
   "cell_type": "code",
   "execution_count": 124,
   "id": "f9e509d4",
   "metadata": {},
   "outputs": [],
   "source": [
    "rent_path = fc.value\n",
    "with open(rent_path, \"rb\") as fp:   # Unpickling\n",
    "    rent_data = pickle.load(fp)"
   ]
  },
  {
   "cell_type": "code",
   "execution_count": 125,
   "id": "aa6ec03f",
   "metadata": {},
   "outputs": [
    {
     "name": "stdout",
     "output_type": "stream",
     "text": [
      "1\n",
      "2\n",
      "4\n",
      "8\n",
      "16\n",
      "32\n",
      "64\n",
      "128\n",
      "256\n",
      "512\n",
      "1024\n",
      "1598\n",
      "328\n",
      "14\n"
     ]
    }
   ],
   "source": [
    "rent_data\n",
    "for level in rent_data:\n",
    "    print(len(level))"
   ]
  },
  {
   "cell_type": "code",
   "execution_count": 126,
   "id": "7cea543d",
   "metadata": {},
   "outputs": [],
   "source": [
    "rent_data_flat = np.array([data_point for level in rent_data for data_point in level])"
   ]
  },
  {
   "cell_type": "code",
   "execution_count": 127,
   "id": "64e03722",
   "metadata": {},
   "outputs": [],
   "source": [
    "blocks = np.array(rent_data_flat)[:,0]\n",
    "pins = np.array(rent_data_flat)[:,1]"
   ]
  },
  {
   "cell_type": "markdown",
   "id": "85842c57",
   "metadata": {},
   "source": [
    "### bin data"
   ]
  },
  {
   "cell_type": "code",
   "execution_count": 128,
   "id": "0e5c6984",
   "metadata": {},
   "outputs": [
    {
     "data": {
      "text/plain": [
       "3406"
      ]
     },
     "execution_count": 128,
     "metadata": {},
     "output_type": "execute_result"
    }
   ],
   "source": [
    "n_bins = 13\n",
    "\n",
    "max_blocks = max(blocks)\n",
    "max_blocks"
   ]
  },
  {
   "cell_type": "code",
   "execution_count": 129,
   "id": "6aced7d8",
   "metadata": {},
   "outputs": [],
   "source": [
    "bin_factor = max_blocks**(1/(n_bins))\n",
    "bin_values = []\n",
    "bin_value = 1\n",
    "for i in range(n_bins):\n",
    "    bin_value*=bin_factor\n",
    "    bin_values.append(bin_value)\n",
    "bin_values[-1] += 1"
   ]
  },
  {
   "cell_type": "code",
   "execution_count": 130,
   "id": "c36d9d83",
   "metadata": {},
   "outputs": [],
   "source": [
    "#Sort on first column (blocks)\n",
    "rent_data_flat = rent_data_flat[rent_data_flat[:,0].argsort()]"
   ]
  },
  {
   "cell_type": "code",
   "execution_count": 131,
   "id": "b4b2a748",
   "metadata": {},
   "outputs": [],
   "source": [
    "binned_data = []\n",
    "sorted_mask = np.array([False]*len(rent_data_flat))\n",
    "for bin_value in bin_values:\n",
    "    bin_mask = rent_data_flat[:,0] <= bin_value\n",
    "    bin_mask = bin_mask ^ sorted_mask\n",
    "    binned_data.append(rent_data_flat[bin_mask])\n",
    "    sorted_mask = sorted_mask | bin_mask\n",
    "assert len(sorted_mask) == sorted_mask.sum()"
   ]
  },
  {
   "cell_type": "code",
   "execution_count": 132,
   "id": "ac0aa228",
   "metadata": {},
   "outputs": [],
   "source": [
    "bin_means = []\n",
    "bin_stds = []\n",
    "for data in binned_data:\n",
    "    blocks_mean = data[:,0].mean()\n",
    "    pins_mean = np.median(data[:,1])\n",
    "    bin_means.append([blocks_mean, pins_mean])\n",
    "    bin_stds.append(data[:,1].std())\n",
    "bin_means = np.array(bin_means)\n",
    "bin_stds = np.array(bin_stds)"
   ]
  },
  {
   "cell_type": "markdown",
   "id": "c886e03e",
   "metadata": {},
   "source": [
    "### Visualise data"
   ]
  },
  {
   "cell_type": "code",
   "execution_count": 133,
   "id": "0dec4ead",
   "metadata": {},
   "outputs": [
    {
     "data": {
      "text/plain": [
       "array([  16.1824069 ,   22.95726798,   34.11762644,   53.99674243,\n",
       "         72.1778925 ,   97.02551321,  123.22931456,  202.05536614,\n",
       "        282.27053042,  374.91897041,  386.56467764,   22.5       ,\n",
       "       1289.5       ])"
      ]
     },
     "execution_count": 133,
     "metadata": {},
     "output_type": "execute_result"
    },
    {
     "data": {
      "image/png": "[encoded data removed]",
      "text/plain": [
       "<Figure size 432x288 with 1 Axes>"
      ]
     },
     "metadata": {
      "needs_background": "light"
     },
     "output_type": "display_data"
    }
   ],
   "source": [
    "plt.xscale(\"log\")\n",
    "plt.yscale(\"log\")\n",
    "plt.scatter(blocks, pins, alpha = 0.1)\n",
    "plt.scatter(bin_means[:,0], bin_means[:,1])\n",
    "\n",
    "plt.vlines(bin_means[:,0], bin_means[:,1] - bin_stds, bin_means[:,1]+bin_stds, colors='pink')\n",
    "\n",
    "bin_stds"
   ]
  },
  {
   "cell_type": "code",
   "execution_count": 134,
   "id": "fc278c10",
   "metadata": {},
   "outputs": [
    {
     "data": {
      "text/plain": [
       "3987"
      ]
     },
     "execution_count": 134,
     "metadata": {},
     "output_type": "execute_result"
    }
   ],
   "source": [
    "len(blocks)"
   ]
  },
  {
   "cell_type": "markdown",
   "id": "d22b2b07",
   "metadata": {},
   "source": [
    "### Find rent exponent"
   ]
  },
  {
   "cell_type": "code",
   "execution_count": 135,
   "id": "e4e77547",
   "metadata": {},
   "outputs": [
    {
     "data": {
      "text/plain": [
       "array([2.78392466, 3.13363457, 3.52981416, 3.98892372, 4.2791338 ,\n",
       "       4.57497397, 4.81404697, 5.30854175, 5.64286594, 5.92670992,\n",
       "       5.9572992 , 3.11351531, 7.16200983])"
      ]
     },
     "execution_count": 135,
     "metadata": {},
     "output_type": "execute_result"
    }
   ],
   "source": [
    "log_bin_means = np.log(bin_means)\n",
    "#TODO: hoe stds weergeven op logaritmisch schaal (hierboven ook niet echt correct? )\n",
    "log_bin_stds = np.log(bin_stds)\n",
    "log_bin_stds"
   ]
  },
  {
   "cell_type": "code",
   "execution_count": 143,
   "id": "a0b0f9bb",
   "metadata": {},
   "outputs": [],
   "source": [
    "#TODO: geef gewicht aan bins .. op minder punten --> meer onzekerheid .. \n",
    "def trend_line(data):\n",
    "    x = data[:,0]\n",
    "    y = data[:,1]\n",
    "    x_mean = x.mean()\n",
    "    y_mean = y.mean()\n",
    "    x_err = x-x_mean\n",
    "    y_err = y-y_mean\n",
    "    a = (x_err*y_err).sum()/ ((x_err)**2).sum()\n",
    "    b = y_mean - x_mean*a\n",
    "    first_point = [x[0], x[0]*a + b]\n",
    "    last_point = [x[-1], x[-1]*a + b]\n",
    "    \n",
    "    #Error\n",
    "    error = sum((y - (x*a + b))**2)/len(data)   \n",
    "    \n",
    "    return np.array([first_point, last_point]), a, b, error"
   ]
  },
  {
   "cell_type": "code",
   "execution_count": 144,
   "id": "05014658",
   "metadata": {},
   "outputs": [
    {
     "data": {
      "text/plain": [
       "(array([[0.        , 4.20725511],\n",
       "        [7.8785342 , 8.2174469 ]]),\n",
       " 0.5090022698594517,\n",
       " 4.207255114616013,\n",
       " 0.10738229800281388)"
      ]
     },
     "execution_count": 144,
     "metadata": {},
     "output_type": "execute_result"
    }
   ],
   "source": [
    "trend_line(log_bin_means[:])"
   ]
  },
  {
   "cell_type": "code",
   "execution_count": 145,
   "id": "2042f2f7",
   "metadata": {},
   "outputs": [
    {
     "name": "stdout",
     "output_type": "stream",
     "text": [
      "3\n",
      "4\n",
      "5\n",
      "6\n",
      "7\n",
      "8\n",
      "9\n",
      "10\n",
      "11\n",
      "12\n",
      "13\n"
     ]
    }
   ],
   "source": [
    "int(n_bins/2)\n",
    "n_selected_bins = 6\n",
    "error_per_n_bins = [] ##Find the best error for sliding windows of selected number of bins\n",
    "for n_selected_bins in range(int(3), n_bins+1):\n",
    "    print(n_selected_bins)\n",
    "    min_error = np.inf\n",
    "    min_error_data = []\n",
    "    for i in range(n_bins-n_selected_bins+1):\n",
    "        line, slope, offset, error = trend_line(log_bin_means[i:i+n_selected_bins])\n",
    "        if error < min_error:\n",
    "            min_error = error\n",
    "            min_error_data = log_bin_means[i:i+n_selected_bins]\n",
    "    error_per_n_bins.append([n_selected_bins, min_error_data, min_error]) \n",
    "error_per_n_bins = np.array(error_per_n_bins, dtype=object)"
   ]
  },
  {
   "cell_type": "code",
   "execution_count": 146,
   "id": "64e46cb4",
   "metadata": {},
   "outputs": [
    {
     "data": {
      "text/plain": [
       "[<matplotlib.lines.Line2D at 0x7f5699b33700>]"
      ]
     },
     "execution_count": 146,
     "metadata": {},
     "output_type": "execute_result"
    },
    {
     "data": {
      "image/png": "[encoded data removed]",
      "text/plain": [
       "<Figure size 432x288 with 1 Axes>"
      ]
     },
     "metadata": {
      "needs_background": "light"
     },
     "output_type": "display_data"
    }
   ],
   "source": [
    "plt.plot(error_per_n_bins[:, 0], error_per_n_bins[:, -1])"
   ]
  },
  {
   "cell_type": "code",
   "execution_count": 147,
   "id": "24e9ecfc",
   "metadata": {},
   "outputs": [
    {
     "data": {
      "text/plain": [
       "array([6.766946607669602e-08, 4.062823366107343e-06,\n",
       "       3.583938807100603e-05, 0.00014915454911112487,\n",
       "       0.001103046313536358, 0.00244672869971487, 0.006108051511818291,\n",
       "       0.009036482680014987, 0.012997364710264046, 0.02011408612592029,\n",
       "       0.10738229800281388], dtype=object)"
      ]
     },
     "execution_count": 147,
     "metadata": {},
     "output_type": "execute_result"
    }
   ],
   "source": [
    "error_per_n_bins[:, -1]"
   ]
  },
  {
   "cell_type": "code",
   "execution_count": 148,
   "id": "6932d268",
   "metadata": {},
   "outputs": [
    {
     "data": {
      "text/plain": [
       "(array([[3.39117851, 6.19848996],\n",
       "        [6.60326609, 7.75123674]]),\n",
       " 0.48340736131311485,\n",
       " 4.559169307744351,\n",
       " 0.00014915454911112487)"
      ]
     },
     "execution_count": 148,
     "metadata": {},
     "output_type": "execute_result"
    }
   ],
   "source": [
    "##find best number of bins (to ommit rents first and second 'gebied' )\n",
    "best_n_bins = 6 ## find this automatically ## find minimum and ... (? nog bedenken hoe juist)\n",
    "selected_bins = error_per_n_bins[:,1][error_per_n_bins[:, 0] == best_n_bins][0]\n",
    "\n",
    "trend_line(selected_bins)"
   ]
  },
  {
   "cell_type": "code",
   "execution_count": 149,
   "id": "a6e4858e",
   "metadata": {},
   "outputs": [
    {
     "name": "stdout",
     "output_type": "stream",
     "text": [
      "bins: 8 \trent exponent: 0.48\n",
      "bins: 9 \trent exponent: 0.51\n",
      "bins: 10 \trent exponent: 0.57\n",
      "bins: 11 \trent exponent: 0.55\n",
      "bins: 12 \trent exponent: 0.57\n"
     ]
    },
    {
     "data": {
      "image/png": "[encoded data removed]",
      "text/plain": [
       "<Figure size 432x288 with 1 Axes>"
      ]
     },
     "metadata": {
      "needs_background": "light"
     },
     "output_type": "display_data"
    }
   ],
   "source": [
    "for selected_n_bins in range(8, n_bins):\n",
    "    selected_bins = error_per_n_bins[:,1][error_per_n_bins[:, 0] == selected_n_bins][0]\n",
    "    line, slope, offset, error = trend_line(selected_bins)\n",
    "    print('bins:', selected_n_bins, '\\trent exponent:', '{:.2f}'.format(slope))\n",
    "    # plt.vlines(log_bin_means[:,0], log_bin_means[:,1]-log_bin_stds, log_bin_means[:,1]+log_bin_stds, colors='pink')\n",
    "    plt.scatter(log_bin_means[:,0], log_bin_means[:,1])\n",
    "\n",
    "    plt.plot(line[:,0], line[:,1])\n"
   ]
  },
  {
   "cell_type": "code",
   "execution_count": 240,
   "id": "10867eef",
   "metadata": {},
   "outputs": [
    {
     "name": "stdout",
     "output_type": "stream",
     "text": [
      "bins: 12 \trent exponent: 0.48\n"
     ]
    },
    {
     "data": {
      "text/plain": [
       "[<matplotlib.lines.Line2D at 0x7f568f5afc10>]"
      ]
     },
     "execution_count": 240,
     "metadata": {},
     "output_type": "execute_result"
    },
    {
     "data": {
      "image/png": "[encoded data removed]",
      "text/plain": [
       "<Figure size 432x288 with 1 Axes>"
      ]
     },
     "metadata": {
      "needs_background": "light"
     },
     "output_type": "display_data"
    }
   ],
   "source": [
    "# plt.xscale(\"log\")\n",
    "# plt.yscale(\"log\")\n",
    "# plt.scatter(blocks, pins, alpha = 0.1)\n",
    "# plt.scatter(bin_means[:,0], bin_means[:,1])\n",
    "rent_data_trim = rent_data[2:8]\n",
    "mult = np.flip(2**np.arange(len(rent_data_trim)))\n",
    "rent_data_weighted_flat = []\n",
    "for x, rent_data_level in zip(mult, rent_data_trim):\n",
    "    rent_data_weighted_flat.extend(rent_data_level*x)\n",
    "rent_data_weighted_flat = np.array(rent_data_weighted_flat)\n",
    "log_rent_data_weighted_flat = np.log(rent_data_weighted_flat)\n",
    "log_rent_data_weighted_flat = log_rent_data_weighted_flat[log_rent_data_weighted_flat[:, 0].argsort()]\n",
    "\n",
    "line, slope, offset, error = trend_line(log_rent_data_weighted_flat)\n",
    "print('bins:', selected_n_bins, '\\trent exponent:', '{:.2f}'.format(slope))\n",
    "plt.scatter(log_rent_data_weighted_flat[:,0], log_rent_data_weighted_flat[:,1],alpha = 0.11)\n",
    "\n",
    "plt.plot(line[:,0], line[:,1], color='orange', linewidth=3)"
   ]
  },
  {
   "cell_type": "code",
   "execution_count": 150,
   "id": "e0066a07",
   "metadata": {},
   "outputs": [
    {
     "name": "stdout",
     "output_type": "stream",
     "text": [
      "Rent exponent: 0.5737231800128719\n"
     ]
    }
   ],
   "source": [
    "print('Rent exponent:', slope)"
   ]
  },
  {
   "cell_type": "code",
   "execution_count": 151,
   "id": "6bd5ee5e",
   "metadata": {},
   "outputs": [
    {
     "ename": "SyntaxError",
     "evalue": "invalid syntax (1851776032.py, line 1)",
     "output_type": "error",
     "traceback": [
      "\u001b[0;36m  Input \u001b[0;32mIn [151]\u001b[0;36m\u001b[0m\n\u001b[0;31m    bins: 4 \trent exponent: 0.54\u001b[0m\n\u001b[0m            \t^\u001b[0m\n\u001b[0;31mSyntaxError\u001b[0m\u001b[0;31m:\u001b[0m invalid syntax\n"
     ]
    }
   ],
   "source": [
    "bins: 4 \trent exponent: 0.54\n",
    "bins: 5 \trent exponent: 0.53\n",
    "bins: 6 \trent exponent: 0.61\n",
    "bins: 7 \trent exponent: 0.58\n",
    "bins: 8 \trent exponent: 0.49"
   ]
  },
  {
   "cell_type": "code",
   "execution_count": 175,
   "id": "37292b2f",
   "metadata": {},
   "outputs": [
    {
     "data": {
      "text/plain": [
       "(14, 1024)"
      ]
     },
     "execution_count": 175,
     "metadata": {},
     "output_type": "execute_result"
    }
   ],
   "source": [
    "len(mult), len(rent_data[-4])"
   ]
  },
  {
   "cell_type": "code",
   "execution_count": 184,
   "id": "37a8f58d",
   "metadata": {},
   "outputs": [
    {
     "data": {
      "text/plain": [
       "[[1014, 2731],\n",
       " [860, 2640],\n",
       " [823, 1637],\n",
       " [709, 2496],\n",
       " [1014, 2731],\n",
       " [860, 2640],\n",
       " [823, 1637],\n",
       " [709, 2496]]"
      ]
     },
     "execution_count": 184,
     "metadata": {},
     "output_type": "execute_result"
    }
   ],
   "source": [
    "rent_data[2]*2"
   ]
  },
  {
   "cell_type": "code",
   "execution_count": 224,
   "id": "4647f99f",
   "metadata": {},
   "outputs": [],
   "source": []
  },
  {
   "cell_type": "code",
   "execution_count": 228,
   "id": "918c31fd",
   "metadata": {},
   "outputs": [],
   "source": []
  },
  {
   "cell_type": "code",
   "execution_count": 214,
   "id": "aeca9c7a",
   "metadata": {},
   "outputs": [
    {
     "data": {
      "text/plain": [
       "12"
      ]
     },
     "execution_count": 214,
     "metadata": {},
     "output_type": "execute_result"
    }
   ],
   "source": [
    "len(rent_data_trim)"
   ]
  },
  {
   "cell_type": "code",
   "execution_count": 230,
   "id": "e3fa25dc",
   "metadata": {},
   "outputs": [
    {
     "data": {
      "text/plain": [
       "array([[0.        , 3.93182563],\n",
       "       [0.        , 1.09861229],\n",
       "       [0.        , 3.49650756],\n",
       "       ...,\n",
       "       [6.92165818, 7.91242312],\n",
       "       [6.92165818, 7.91242312],\n",
       "       [6.92165818, 7.91242312]])"
      ]
     },
     "execution_count": 230,
     "metadata": {},
     "output_type": "execute_result"
    }
   ],
   "source": [
    "log_rent_data_weighted_flat"
   ]
  },
  {
   "cell_type": "code",
   "execution_count": null,
   "id": "40c9b9f2",
   "metadata": {},
   "outputs": [],
   "source": []
  }
 ],
 "metadata": {
  "kernelspec": {
   "display_name": "Python 3 (ipykernel)",
   "language": "python",
   "name": "python3"
  },
  "language_info": {
   "codemirror_mode": {
    "name": "ipython",
    "version": 3
   },
   "file_extension": ".py",
   "mimetype": "text/x-python",
   "name": "python",
   "nbconvert_exporter": "python",
   "pygments_lexer": "ipython3",
   "version": "3.8.10"
  }
 },
 "nbformat": 4,
 "nbformat_minor": 5
}
