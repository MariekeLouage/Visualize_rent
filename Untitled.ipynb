{
 "cells": [
  {
   "cell_type": "code",
   "execution_count": 1,
   "id": "7fd37f8c",
   "metadata": {},
   "outputs": [],
   "source": [
    "import os\n",
    "import subprocess\n",
    "import numpy as np"
   ]
  },
  {
   "cell_type": "code",
   "execution_count": 2,
   "id": "66f8b3ee",
   "metadata": {},
   "outputs": [],
   "source": [
    "bm_folder = '../benchmarks/'\n",
    "file_name = 'gnl_0002'\n",
    "\n",
    "path_gnl_file = os.path.join(bm_folder,'gnl' ,file_name +'.gnl')\n",
    "path_hnl = os.path.join(bm_folder,'hnl' ,file_name +'.hnl')\n",
    "path_blif = os.path.join(bm_folder, 'blif',file_name +'.blif')\n",
    "\n",
    "gnl = '../GNL/cmake-build-debug/GNL'"
   ]
  },
  {
   "cell_type": "markdown",
   "id": "9cea51b0",
   "metadata": {},
   "source": [
    "### Write GNL file"
   ]
  },
  {
   "cell_type": "markdown",
   "id": "3f2466ac",
   "metadata": {},
   "source": [
    "GNL file: library description and circuit description"
   ]
  },
  {
   "cell_type": "code",
   "execution_count": 3,
   "id": "52f3eae3",
   "metadata": {},
   "outputs": [],
   "source": [
    "gates_library = {\n",
    "    'inv': {'truthtable': ['0 1'], 'inputs': 1, 'outputs': 1},\n",
    "    'and2': {'truthtable':['11 1'], 'inputs': 2, 'outputs': 1},\n",
    "    'nand3': {'truthtable':['0-- 1', '-0- 1', '--0 1'], 'inputs': 3, 'outputs': 1},\n",
    "    'or4': {'truthtable':['---1 1', '--1- 1', '-1-- 1', '1--- 1'], 'inputs': 4, 'outputs': 1},\n",
    "    'xor2': {'truthtable':['01 1', '10 1'], 'inputs': 2, 'outputs': 1}\n",
    "}"
   ]
  },
  {
   "cell_type": "code",
   "execution_count": 4,
   "id": "fa2a8af8",
   "metadata": {},
   "outputs": [
    {
     "data": {
      "text/plain": [
       "{'latches': 1000,\n",
       " 'gates_distribution': [5000, 2000, 1500, 1000, 500],\n",
       " 'rent_characteristics': [{'size': 10000, 'p': 0.63, 'q': 0.1},\n",
       "  {'size': 11000, 'I': 50, 'O': 50}]}"
      ]
     },
     "execution_count": 4,
     "metadata": {},
     "output_type": "execute_result"
    }
   ],
   "source": [
    "circuit = {\n",
    "    'latches': 1000,\n",
    "    'gates_distribution': [5000, 2000, 1500, 1000, 500],\n",
    "    'rent_characteristics': [#{'size': 30, 'p': 0.5, 'q': 0.6}, \n",
    "                             {'size': 10000, 'p': 0.63, 'q': 0.1}, \n",
    "                             {'size': 9000, 'I': 50, 'O': 50}]\n",
    "}\n",
    "circuit['rent_characteristics'][-1]['size'] = circuit['latches'] + sum(circuit['gates_distribution'])\n",
    "circuit"
   ]
  },
  {
   "cell_type": "code",
   "execution_count": 5,
   "id": "f38f8efc",
   "metadata": {},
   "outputs": [],
   "source": [
    "lines = []\n",
    "lines.append('[library]')\n",
    "lines.append('name=lib')\n",
    "lines.append('latch=dff 1 1')\n",
    "for gate_name, gate in gates_library.items():\n",
    "    lines.append('gate=' + gate_name + ' ' + str(gate['inputs']) + ' ' + str(gate['outputs']))\n",
    "\n",
    "lines.append('\\n')\n",
    "lines.append('[circuit]')\n",
    "lines.append('name=' + file_name)\n",
    "lines.append('libraries=lib')\n",
    "lines.append('distribution=' + str(circuit['latches']) + ' ' + ' '.join([str(val) for val in circuit['gates_distribution']]))\n",
    "for rent in circuit['rent_characteristics']:\n",
    "    for key, value in rent.items():\n",
    "        lines.append(key+'='+str(value))\n"
   ]
  },
  {
   "cell_type": "code",
   "execution_count": 6,
   "id": "e875eff8",
   "metadata": {},
   "outputs": [
    {
     "data": {
      "text/plain": [
       "['[library]',\n",
       " 'name=lib',\n",
       " 'latch=dff 1 1',\n",
       " 'gate=inv 1 1',\n",
       " 'gate=and2 2 1',\n",
       " 'gate=nand3 3 1',\n",
       " 'gate=or4 4 1',\n",
       " 'gate=xor2 2 1',\n",
       " '\\n',\n",
       " '[circuit]',\n",
       " 'name=gnl_0002',\n",
       " 'libraries=lib',\n",
       " 'distribution=1000 5000 2000 1500 1000 500',\n",
       " 'size=10000',\n",
       " 'p=0.63',\n",
       " 'q=0.1',\n",
       " 'size=11000',\n",
       " 'I=50',\n",
       " 'O=50']"
      ]
     },
     "execution_count": 6,
     "metadata": {},
     "output_type": "execute_result"
    }
   ],
   "source": [
    "lines"
   ]
  },
  {
   "cell_type": "code",
   "execution_count": 7,
   "id": "b85826d4",
   "metadata": {},
   "outputs": [],
   "source": [
    "file1 = open(path_gnl_file, 'w')\n",
    "lines = file1.writelines([entry + '\\n' for entry in lines])\n",
    "file1.close()"
   ]
  },
  {
   "cell_type": "markdown",
   "id": "5869be1d",
   "metadata": {},
   "source": [
    "### Generate netlist with GNL"
   ]
  },
  {
   "cell_type": "code",
   "execution_count": 8,
   "id": "ca55e38a",
   "metadata": {},
   "outputs": [],
   "source": [
    "result = subprocess.run([gnl, path_gnl_file], shell=True, capture_output=True, text=True)"
   ]
  },
  {
   "cell_type": "code",
   "execution_count": 1,
   "id": "ccca48ec",
   "metadata": {},
   "outputs": [
    {
     "name": "stdout",
     "output_type": "stream",
     "text": [
      "/home/marieke/GNL_clone/benchmarks/hnl\n"
     ]
    }
   ],
   "source": [
    "cd '/home/marieke/GNL_clone/benchmarks/hnl'"
   ]
  },
  {
   "cell_type": "code",
   "execution_count": 2,
   "id": "82a2148a",
   "metadata": {},
   "outputs": [
    {
     "ename": "NameError",
     "evalue": "name 'os' is not defined",
     "output_type": "error",
     "traceback": [
      "\u001b[0;31m---------------------------------------------------------------------------\u001b[0m",
      "\u001b[0;31mNameError\u001b[0m                                 Traceback (most recent call last)",
      "Input \u001b[0;32mIn [2]\u001b[0m, in \u001b[0;36m<cell line: 2>\u001b[0;34m()\u001b[0m\n\u001b[1;32m      1\u001b[0m gnl \u001b[38;5;241m=\u001b[39m \u001b[38;5;124m'\u001b[39m\u001b[38;5;124m../../GNL/cmake-build-debug/GNL\u001b[39m\u001b[38;5;124m'\u001b[39m\n\u001b[0;32m----> 2\u001b[0m path_gnl_file \u001b[38;5;241m=\u001b[39m \u001b[43mos\u001b[49m\u001b[38;5;241m.\u001b[39mpath\u001b[38;5;241m.\u001b[39mjoin(\u001b[38;5;124m'\u001b[39m\u001b[38;5;124m..\u001b[39m\u001b[38;5;124m'\u001b[39m,\u001b[38;5;124m'\u001b[39m\u001b[38;5;124mgnl\u001b[39m\u001b[38;5;124m'\u001b[39m ,file_name \u001b[38;5;241m+\u001b[39m\u001b[38;5;124m'\u001b[39m\u001b[38;5;124m.gnl\u001b[39m\u001b[38;5;124m'\u001b[39m)\n\u001b[1;32m      3\u001b[0m subprocess\u001b[38;5;241m.\u001b[39mrun([gnl, path_gnl_file], capture_output\u001b[38;5;241m=\u001b[39m\u001b[38;5;28;01mTrue\u001b[39;00m)\n",
      "\u001b[0;31mNameError\u001b[0m: name 'os' is not defined"
     ]
    }
   ],
   "source": [
    "gnl = '../../GNL/cmake-build-debug/GNL'\n",
    "path_gnl_file = os.path.join('..','gnl' ,file_name +'.gnl')\n",
    "subprocess.run([gnl, path_gnl_file], capture_output=True)"
   ]
  },
  {
   "cell_type": "code",
   "execution_count": 11,
   "id": "ca79eaa6",
   "metadata": {},
   "outputs": [
    {
     "name": "stdout",
     "output_type": "stream",
     "text": [
      "/home/marieke/GNL_clone/Visualizations\n"
     ]
    }
   ],
   "source": [
    "cd '/home/marieke/GNL_clone/Visualizations/'"
   ]
  },
  {
   "cell_type": "markdown",
   "id": "72651167",
   "metadata": {},
   "source": [
    "### HNL to blif"
   ]
  },
  {
   "cell_type": "code",
   "execution_count": 12,
   "id": "0cfa961a",
   "metadata": {},
   "outputs": [],
   "source": [
    "path_hnl = os.path.join(bm_folder,'hnl' ,file_name +'.hnl')\n",
    "path_blif = os.path.join(bm_folder, 'blif',file_name +'.blif')"
   ]
  },
  {
   "cell_type": "code",
   "execution_count": 13,
   "id": "6df4f067",
   "metadata": {},
   "outputs": [],
   "source": [
    "file1 = open(path_hnl, 'r')\n",
    "lines = file1.readlines()\n",
    "file1.close()\n",
    "\n",
    "circuit_index = [i for i, line in enumerate(lines) if 'circuit' in line and not '#' in line][0]\n",
    "circuit_inputs = lines[circuit_index + 1]\n",
    "circuit_outputs = lines[circuit_index + 2]\n",
    "blocks = lines[circuit_index + 3 : -1]"
   ]
  },
  {
   "cell_type": "code",
   "execution_count": 14,
   "id": "c7fdd0ff",
   "metadata": {},
   "outputs": [],
   "source": [
    "lines_out = []\n",
    "\n",
    "lines_out.append('.model top')\n",
    "lines_out.append('.inputs ' + ' '.join(circuit_inputs.split()[1:])+ ' pclk')\n",
    "lines_out.append('.outputs ' + ' '.join(circuit_outputs.split()[1:]))\n",
    "\n",
    "\n",
    "for block in blocks:\n",
    "    split = block.split()\n",
    "    gate = split[0]\n",
    "    inputs = split[1:-1]\n",
    "    output = split[-1]\n",
    "    if gate in gates_library:\n",
    "        lines_out.append(' '.join(['.names', ' '.join(inputs), output]))\n",
    "        lines_out.extend(gates_library[gate]['truthtable'])\n",
    "        lines_out.append('')\n",
    "    else:\n",
    "        lines_out.append(' '.join(['.latch', inputs[0], output, 're pclk 2']))\n",
    "    \n",
    "lines_out.append('.end')"
   ]
  },
  {
   "cell_type": "code",
   "execution_count": 15,
   "id": "f3f3c843",
   "metadata": {},
   "outputs": [],
   "source": [
    "file1 = open(path_blif, 'w')\n",
    "lines = file1.writelines([entry + '\\n' for entry in lines_out])\n",
    "file1.close()"
   ]
  },
  {
   "cell_type": "markdown",
   "id": "0e8305e1",
   "metadata": {},
   "source": [
    "### Rent exponent "
   ]
  },
  {
   "cell_type": "code",
   "execution_count": 16,
   "id": "d3fc849f",
   "metadata": {},
   "outputs": [],
   "source": [
    "calculate_rent = '../CalculateRent/main.py'\n",
    "path_rent = os.path.join(bm_folder, 'rent_files')\n",
    "hmetis = '../hmetis-1.5-linux/hmetis'"
   ]
  },
  {
   "cell_type": "code",
   "execution_count": 17,
   "id": "6bd960f5",
   "metadata": {},
   "outputs": [
    {
     "name": "stdout",
     "output_type": "stream",
     "text": [
      "../hmetis-1.5-linux/hmetis\n",
      "11683\n",
      "../benchmarks/rent_files/gnl_0002.blif.rent\n"
     ]
    },
    {
     "data": {
      "text/plain": [
       "0"
      ]
     },
     "execution_count": 17,
     "metadata": {},
     "output_type": "execute_result"
    }
   ],
   "source": [
    "cwd = os.path.join(os.getcwd(), calculate_rent)\n",
    "path_blif\n",
    "os.system('{} {} {} {} {}'.format('python3', cwd, path_blif, path_rent, hmetis))"
   ]
  },
  {
   "cell_type": "markdown",
   "id": "33910be7",
   "metadata": {},
   "source": [
    "### Visualize Rent data"
   ]
  },
  {
   "cell_type": "code",
   "execution_count": 18,
   "id": "e22ddc83",
   "metadata": {},
   "outputs": [
    {
     "data": {
      "text/plain": [
       "'../benchmarks/blif/gnl_0002.blif'"
      ]
     },
     "execution_count": 18,
     "metadata": {},
     "output_type": "execute_result"
    }
   ],
   "source": [
    "path_blif"
   ]
  },
  {
   "cell_type": "code",
   "execution_count": 19,
   "id": "dee33fb8",
   "metadata": {},
   "outputs": [
    {
     "data": {
      "text/plain": [
       "'../benchmarks/rent_files'"
      ]
     },
     "execution_count": 19,
     "metadata": {},
     "output_type": "execute_result"
    }
   ],
   "source": [
    "path_rent"
   ]
  },
  {
   "cell_type": "code",
   "execution_count": null,
   "id": "6d537f2c",
   "metadata": {},
   "outputs": [],
   "source": []
  },
  {
   "cell_type": "code",
   "execution_count": null,
   "id": "ea4a8f27",
   "metadata": {},
   "outputs": [],
   "source": []
  }
 ],
 "metadata": {
  "kernelspec": {
   "display_name": "Python 3 (ipykernel)",
   "language": "python",
   "name": "python3"
  },
  "language_info": {
   "codemirror_mode": {
    "name": "ipython",
    "version": 3
   },
   "file_extension": ".py",
   "mimetype": "text/x-python",
   "name": "python",
   "nbconvert_exporter": "python",
   "pygments_lexer": "ipython3",
   "version": "3.8.10"
  }
 },
 "nbformat": 4,
 "nbformat_minor": 5
}
