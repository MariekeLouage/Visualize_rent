{
 "cells": [
  {
   "cell_type": "code",
   "execution_count": 1,
   "id": "4efe14c3",
   "metadata": {},
   "outputs": [],
   "source": [
    "import os\n",
    "import numpy as np"
   ]
  },
  {
   "cell_type": "code",
   "execution_count": 2,
   "id": "0cfa961a",
   "metadata": {},
   "outputs": [],
   "source": [
    "bm_folder = 'benchmarks/'\n",
    "file_name = 'large'\n",
    "path_hnl = os.path.join(bm_folder,'hnl' ,file_name +'.hnl')\n",
    "path_blif = os.path.join(bm_folder, 'blif',file_name +'.blif')"
   ]
  },
  {
   "cell_type": "code",
   "execution_count": 3,
   "id": "6df4f067",
   "metadata": {},
   "outputs": [
    {
     "ename": "FileNotFoundError",
     "evalue": "[Errno 2] No such file or directory: 'benchmarks/hnl/large.hnl'",
     "output_type": "error",
     "traceback": [
      "\u001b[0;31m---------------------------------------------------------------------------\u001b[0m",
      "\u001b[0;31mFileNotFoundError\u001b[0m                         Traceback (most recent call last)",
      "Input \u001b[0;32mIn [3]\u001b[0m, in \u001b[0;36m<cell line: 1>\u001b[0;34m()\u001b[0m\n\u001b[0;32m----> 1\u001b[0m file1 \u001b[38;5;241m=\u001b[39m \u001b[38;5;28;43mopen\u001b[39;49m\u001b[43m(\u001b[49m\u001b[43mpath_hnl\u001b[49m\u001b[43m,\u001b[49m\u001b[43m \u001b[49m\u001b[38;5;124;43m'\u001b[39;49m\u001b[38;5;124;43mr\u001b[39;49m\u001b[38;5;124;43m'\u001b[39;49m\u001b[43m)\u001b[49m\n\u001b[1;32m      2\u001b[0m lines \u001b[38;5;241m=\u001b[39m file1\u001b[38;5;241m.\u001b[39mreadlines()\n\u001b[1;32m      3\u001b[0m file1\u001b[38;5;241m.\u001b[39mclose()\n",
      "\u001b[0;31mFileNotFoundError\u001b[0m: [Errno 2] No such file or directory: 'benchmarks/hnl/large.hnl'"
     ]
    }
   ],
   "source": [
    "file1 = open(path_hnl, 'r')\n",
    "lines = file1.readlines()\n",
    "file1.close()\n",
    "\n",
    "circuit_index = [i for i, line in enumerate(lines) if 'circuit' in line and not '#' in line][0]\n",
    "circuit_inputs = lines[circuit_index + 1]\n",
    "circuit_outputs = lines[circuit_index + 2]\n",
    "blocks = lines[circuit_index + 3 : -1]"
   ]
  },
  {
   "cell_type": "code",
   "execution_count": 4,
   "id": "fe711a1d",
   "metadata": {},
   "outputs": [],
   "source": [
    "truth_tables = {\n",
    "    'and2': ['11 1'],\n",
    "    'inv': ['0 1'],\n",
    "    'nand3': ['0-- 1', '-0- 1', '--0 1'],\n",
    "    'or4': ['---1 1', '--1- 1', '-1-- 1', '1--- 1'],\n",
    "    'xor2': ['01 1', '10 1']\n",
    "}"
   ]
  },
  {
   "cell_type": "code",
   "execution_count": 5,
   "id": "93630c2f",
   "metadata": {},
   "outputs": [
    {
     "data": {
      "text/plain": [
       "'.outputs n350 n351 n352 n353 n354 n355 n356 n357 n358 n359 n360 n361 n362 n363 n364 n365 n366 n367 n368 n369 n370 n371 n372 n373 n374 n375 n376 n377 n378 n379 n380 n381 n382 n383 n384 n385 n386 n387 n388 n389 n390 n391 n392 n393 n394 n395 n396 n397 n398 n399 n400 n401 n402 n403 n404 n405 n406 n407 n408 n409 n410 n411 n412 n413 n414 n415 n416 n417 n418 n419 n420 n421 n422 n423 n424 n425 n426 n427 n428 n429 n430 n431 n432 n433 n434 n435 n436 n437 n438 n439 n440 n441 n442 n443 n444 n445 n446 n447 n448 n449 n450 n451 n452 n453 n454 n455 n456 n457 n458 n459 n460 n461 n462 n463 n464 n465 n466 n467 n468 n469 n470 n471 n472 n473 n474 n475 n476 n477 n478 n479 n480 n481 n482 n483 n484 n485 n486 n487 n488 n489 n490 n491 n492 n493 n494 n495 n496 n497 n498 n499'"
      ]
     },
     "execution_count": 5,
     "metadata": {},
     "output_type": "execute_result"
    }
   ],
   "source": [
    "'.inputs ' + ' '.join(circuit_inputs.split()[1:]) + ' pclk'\n",
    "'.outputs ' + ' '.join(circuit_outputs.split()[1:])"
   ]
  },
  {
   "cell_type": "code",
   "execution_count": 13,
   "id": "c7fdd0ff",
   "metadata": {},
   "outputs": [],
   "source": [
    "lines_out = []\n",
    "\n",
    "lines_out.append('.model top')\n",
    "lines_out.append('.inputs ' + ' '.join(circuit_inputs.split()[1:])+ ' pclk')\n",
    "lines_out.append('.outputs ' + ' '.join(circuit_outputs.split()[1:]))\n",
    "\n",
    "for block in blocks:\n",
    "    split = block.split()\n",
    "    gate = split[0]\n",
    "    inputs = split[1:-1]\n",
    "    output = split[-1]\n",
    "    if gate in truth_tables:\n",
    "        lines_out.append(' '.join(['.names', ' '.join(inputs), output]))\n",
    "        lines_out.extend(truth_tables[gate])\n",
    "    else:\n",
    "        lines_out.append(' '.join(['.latch', inputs[0], output, 're pclk 2']))\n",
    "    \n",
    "lines_out.append('.end')"
   ]
  },
  {
   "cell_type": "code",
   "execution_count": 14,
   "id": "f3f3c843",
   "metadata": {},
   "outputs": [],
   "source": [
    "file1 = open(path_blif, 'w')\n",
    "lines = file1.writelines([entry + '\\n' for entry in lines_out])\n",
    "file1.close()"
   ]
  },
  {
   "cell_type": "code",
   "execution_count": null,
   "id": "f7ee2e81",
   "metadata": {},
   "outputs": [],
   "source": []
  },
  {
   "cell_type": "code",
   "execution_count": null,
   "id": "709cff16",
   "metadata": {},
   "outputs": [],
   "source": []
  },
  {
   "cell_type": "code",
   "execution_count": null,
   "id": "70d49ccd",
   "metadata": {},
   "outputs": [],
   "source": []
  }
 ],
 "metadata": {
  "kernelspec": {
   "display_name": "Python 3 (ipykernel)",
   "language": "python",
   "name": "python3"
  },
  "language_info": {
   "codemirror_mode": {
    "name": "ipython",
    "version": 3
   },
   "file_extension": ".py",
   "mimetype": "text/x-python",
   "name": "python",
   "nbconvert_exporter": "python",
   "pygments_lexer": "ipython3",
   "version": "3.8.10"
  }
 },
 "nbformat": 4,
 "nbformat_minor": 5
}
